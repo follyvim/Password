{
 "cells": [
  {
   "cell_type": "code",
   "execution_count": null,
   "id": "38ce443e-0456-4230-a3af-9f61c4538228",
   "metadata": {},
   "outputs": [
    {
     "name": "stdout",
     "output_type": "stream",
     "text": [
      "Note, your password must contain these requirements\n",
      "Password must be 8 character long\n",
      "At least one character must be in capital letter\n",
      "At least one character must be a digit\n",
      "At least one of these symbols !,@$%^*£&)_-+=>.</?`¬#\n"
     ]
    },
    {
     "name": "stdin",
     "output_type": "stream",
     "text": [
      "Enter your username:\n",
      " yyuy\n",
      "should i generate a password for you\n",
      "(Yes/No) yes\n"
     ]
    },
    {
     "name": "stdout",
     "output_type": "stream",
     "text": [
      "{'yyuy': 'RgAq$hc7'}\n"
     ]
    }
   ],
   "source": [
    "#password checker, generator and saving into dictionary for multiple users\n",
    "import string\n",
    "import re\n",
    "import random\n",
    "\n",
    "print ('Note, your password must contain these requirements')\n",
    "print ('Password must be 8 character long')\n",
    "print ('At least one character must be in capital letter')\n",
    "print ('At least one character must be a digit')\n",
    "print ('At least one of these symbols !,@$%^*£&)_-+=>.</?`¬#')\n",
    "d = {}\n",
    "alphabets = list(string.ascii_letters)\n",
    "digits = list(string.digits)\n",
    "special_characters =list('!,@$%^*£&)_-+=>.</?`¬#')\n",
    "while True:\n",
    "    username = input('Enter your username:\\n')\n",
    "    ask = input('should i generate a password for you\\n(Yes/No)')\n",
    "    if ask.lower() == 'no':\n",
    "        password = input('Enter your password:\\n')\n",
    "        if re.search('[A-Z]', str(password)):\n",
    "            if re.search(\"[0-9]\", str(password)):\n",
    "                if re.search('[!@#$%^*]', str(password)):\n",
    "                    d [username] = password\n",
    "                    print ('valid password')\n",
    "                    print (d)\n",
    "                else:\n",
    "                    print ('Invalid password')\n",
    "            else:\n",
    "                print ('Invalid password')\n",
    "        else:\n",
    "            print ('Invalid password')\n",
    "    elif ask.lower() =='yes':\n",
    "        di = random.choice(digits)\n",
    "        c = random.choice(special_characters)\n",
    "        l = random.sample(alphabets,6)\n",
    "        password = l + [str(di)] +[c]\n",
    "        random.shuffle(password)\n",
    "        password = ''.join(password)\n",
    "        #print('Your password is',password)\n",
    "        d [username] = password   \n",
    "        print (d)"
   ]
  },
  {
   "cell_type": "code",
   "execution_count": null,
   "id": "cae24661-ca4a-419a-ac59-bcfbfdbf5a2f",
   "metadata": {},
   "outputs": [],
   "source": []
  }
 ],
 "metadata": {
  "kernelspec": {
   "display_name": "Python 3",
   "language": "python",
   "name": "python3"
  },
  "language_info": {
   "codemirror_mode": {
    "name": "ipython",
    "version": 3
   },
   "file_extension": ".py",
   "mimetype": "text/x-python",
   "name": "python",
   "nbconvert_exporter": "python",
   "pygments_lexer": "ipython3",
   "version": "3.8.8"
  }
 },
 "nbformat": 4,
 "nbformat_minor": 5
}
